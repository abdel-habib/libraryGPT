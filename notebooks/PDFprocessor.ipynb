{
 "cells": [
  {
   "cell_type": "code",
   "execution_count": 11,
   "id": "6ddf3bcd-721a-45c0-9ab5-dd1d5abb32b1",
   "metadata": {},
   "outputs": [],
   "source": [
    "import PyPDF2\n",
    "from langchain.docstore.document import Document\n",
    "from langchain.text_splitter import RecursiveCharacterTextSplitter\n",
    "import re"
   ]
  },
  {
   "cell_type": "code",
   "execution_count": 2,
   "id": "d35d2c47-5a8c-4058-b702-6674c107586c",
   "metadata": {},
   "outputs": [],
   "source": [
    "normal_test_path = '../uploads/ML Classification Job Approach.pdf'\n",
    "paper_test_path = ''"
   ]
  },
  {
   "cell_type": "code",
   "execution_count": 12,
   "id": "42acf714-27ee-4942-a07b-ed098514238d",
   "metadata": {},
   "outputs": [
    {
     "name": "stdout",
     "output_type": "stream",
     "text": [
      "Table of Contents:\n",
      "1.Pre-processing\n",
      "2.Feature Extraction\n",
      "3.Feature Selection\n",
      "4.Challenge 1: Binary Classes \n",
      "5.Challenge 2: Three Classes Problem\n",
      "6.Validation Results and Discussion (both challenges)\n",
      "7.Conclusion\n",
      "1\n",
      "['Table of Contents:', '1.Pre-processing', '2.Feature Extraction', '3.Feature Selection', '4.Challenge 1: Binary Classes ', '5.Challenge 2: Three Classes Problem', '6.Validation Results and Discussion (both challenges)', '7.Conclusion', '1']\n"
     ]
    }
   ],
   "source": [
    "def remove_headers_footers(lines):\n",
    "    \"\"\"\n",
    "    Detect and remove headers, footers, and irrelevant sections.\n",
    "    \"\"\"\n",
    "    cleaned_lines = []\n",
    "    for line in lines:\n",
    "        # Skip repetitive patterns (headers/footers)\n",
    "        if is_repetitive(line):\n",
    "            continue\n",
    "        # Skip lines with reference-like patterns\n",
    "        if line.strip().lower() in [\"references\", \"bibliography\"]:\n",
    "            break\n",
    "        if re.match(r\"^\\[\\d+\\]|\\(\\d+\\)|^\\d+\\.\\s\", line.strip()):\n",
    "            continue\n",
    "        \n",
    "        cleaned_lines.append(line)\n",
    "    return cleaned_lines\n",
    "\n",
    "\n",
    "def is_repetitive(line, history=set(), threshold=5):\n",
    "    \"\"\"\n",
    "    Identify repetitive headers/footers based on frequency.\n",
    "    \"\"\"\n",
    "    normalized_line = line.strip().lower()\n",
    "    if normalized_line in history:\n",
    "        return True\n",
    "    if len(history) >= threshold:\n",
    "        history.pop()\n",
    "    history.add(normalized_line)\n",
    "    return False\n",
    "\n",
    "with open(normal_test_path, 'rb') as f:\n",
    "    # read the pdf\n",
    "    reader = PyPDF2.PdfReader(f)\n",
    "\n",
    "    # process each page independently to remove repeated headers and footers\n",
    "    for page in reader.pages:\n",
    "        raw_text = page.extract_text()\n",
    "        print(raw_text)\n",
    "\n",
    "        # Remove headers and footers\n",
    "        lines = raw_text.splitlines()\n",
    "        filtered_lines = remove_headers_footers(lines)\n",
    "        print(filtered_lines)\n",
    "        \n",
    "        break\n",
    "        \n",
    "    \n",
    "    # concat all text\n",
    "    # pdf_full_text = ''.join(page.extract_text() for page in reader.pages)\n",
    "    # print(pdf_full_text)"
   ]
  },
  {
   "cell_type": "code",
   "execution_count": 5,
   "id": "8e965a57-4984-4e33-95f9-e4f16fd43db7",
   "metadata": {},
   "outputs": [
    {
     "data": {
      "text/plain": [
       "<PyPDF2._reader.PdfReader at 0x1e0fa63f970>"
      ]
     },
     "execution_count": 5,
     "metadata": {},
     "output_type": "execute_result"
    }
   ],
   "source": [
    "reader"
   ]
  }
 ],
 "metadata": {
  "kernelspec": {
   "display_name": "Python 3 (ipykernel)",
   "language": "python",
   "name": "python3"
  },
  "language_info": {
   "codemirror_mode": {
    "name": "ipython",
    "version": 3
   },
   "file_extension": ".py",
   "mimetype": "text/x-python",
   "name": "python",
   "nbconvert_exporter": "python",
   "pygments_lexer": "ipython3",
   "version": "3.10.4"
  }
 },
 "nbformat": 4,
 "nbformat_minor": 5
}
