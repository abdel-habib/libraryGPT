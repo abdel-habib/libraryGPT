{
 "cells": [
  {
   "cell_type": "code",
   "execution_count": 15,
   "id": "9b3698eb-b0cd-4f33-ac2e-2bb3cd5597c2",
   "metadata": {},
   "outputs": [],
   "source": [
    "# adding the base path to import from static\n",
    "import sys\n",
    "sys.path.append('../')"
   ]
  },
  {
   "cell_type": "code",
   "execution_count": 17,
   "id": "c198d014-295a-4e85-9221-44e225e1a682",
   "metadata": {},
   "outputs": [
    {
     "name": "stdout",
     "output_type": "stream",
     "text": [
      "The autoreload extension is already loaded. To reload it, use:\n",
      "  %reload_ext autoreload\n"
     ]
    }
   ],
   "source": [
    "from langchain_huggingface import HuggingFaceEmbeddings\n",
    "from static.helpers.chromadb import list_collections\n",
    "\n",
    "# for auto reload when changes are made in the package\n",
    "%load_ext autoreload\n",
    "%autoreload 2"
   ]
  },
  {
   "cell_type": "code",
   "execution_count": 2,
   "id": "619af2a2-5852-4010-99f6-337b585f32b4",
   "metadata": {},
   "outputs": [],
   "source": [
    "embedding_model = HuggingFaceEmbeddings(model_name=\"all-MiniLM-L6-v2\")"
   ]
  },
  {
   "cell_type": "markdown",
   "id": "7ebf3cc9-c27f-48f7-acf6-7aded6480ff3",
   "metadata": {},
   "source": [
    "Listing all available collections in the db"
   ]
  },
  {
   "cell_type": "code",
   "execution_count": 20,
   "id": "92f6d75b-be0b-4de0-94ef-207d84ac4209",
   "metadata": {},
   "outputs": [],
   "source": [
    "c = list_collections(embedding_model)"
   ]
  },
  {
   "cell_type": "code",
   "execution_count": 21,
   "id": "42578ff6-cde7-4f2d-8111-592a848c0321",
   "metadata": {},
   "outputs": [
    {
     "data": {
      "text/plain": [
       "dict_keys(['ids', 'embeddings', 'documents', 'uris', 'data', 'metadatas', 'included'])"
      ]
     },
     "execution_count": 21,
     "metadata": {},
     "output_type": "execute_result"
    }
   ],
   "source": [
    "c.keys()"
   ]
  }
 ],
 "metadata": {
  "kernelspec": {
   "display_name": "Python 3 (ipykernel)",
   "language": "python",
   "name": "python3"
  },
  "language_info": {
   "codemirror_mode": {
    "name": "ipython",
    "version": 3
   },
   "file_extension": ".py",
   "mimetype": "text/x-python",
   "name": "python",
   "nbconvert_exporter": "python",
   "pygments_lexer": "ipython3",
   "version": "3.10.4"
  }
 },
 "nbformat": 4,
 "nbformat_minor": 5
}
